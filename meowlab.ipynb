{
 "cells": [
  {
   "cell_type": "markdown",
   "id": "c6175159",
   "metadata": {},
   "source": [
    "# MeowLab\n",
    "\n",
    "> cat可能是你最常用的命令行工具之一，但是可能很少有人会关注cat的性能问题。\n",
    "> \n",
    "> 但实际上，cat可能比你想的更加高效。在这个lab中，我们会一起来探索cat如此高效的秘密。"
   ]
  },
  {
   "cell_type": "markdown",
   "id": "ef876965",
   "metadata": {},
   "source": [
    "## 什么是cat\n",
    "\n",
    "对于大部分同学来说，这个问题有些太trivial了。但是以防万一，还是在这里介绍一下，cat是一个GNU coreutils中的一个程序，它的作用是连接(con**cat**enate)一系列文件，并将其输出到标准输出流(stdout)中。\n",
    "\n",
    "> 如果你愿意去找，你会发现这个lab中所有的代码都可以在GNU coreutils中找到，或者你用某个大模型，它可能也能写得不错。\n",
    "> 但是，除了写代码以外，这个lab中也会包含一些分析和讨论。因此即使你选择直接去抄GNU coreutils中的代码，也不要直接不加思考的复制粘贴。"
   ]
  },
  {
   "cell_type": "markdown",
   "id": "be33179e",
   "metadata": {},
   "source": [
    "## 环境要求\n",
    "\n",
    "* 操作系统：Linux（任何包含GNU coreutils的发行版）\n",
    "* 编译器：本lab允许使用C/C++或者Rust，选择你喜欢的任何编译器即可。\n",
    "* Python3.x：本lab一些地方需要你画图，推荐你使用matplotlib。另外，我们使用一个简单的脚本来生成测试文件。"
   ]
  },
  {
   "cell_type": "markdown",
   "id": "c6d3e510",
   "metadata": {},
   "source": [
    "## 在开始之前\n",
    "\n",
    "这个项目的所有代码需要你自己动手来写，我们只提供了一个用于生成测试文件的脚本。\n",
    "\n",
    "为了展示比较明显的测试效果，我们会生成一个2GB的测试文件，请确保你的磁盘拥有足够的空间。你可以运行下面这个单元格来查看你的电脑是否有足够的空间。这里我们使用了`df`命令，这个命令的作用是查看某个文件系统所在的磁盘的使用量。"
   ]
  },
  {
   "cell_type": "code",
   "execution_count": null,
   "id": "14021422",
   "metadata": {},
   "outputs": [],
   "source": [
    "%%bash\n",
    "df -h /\n",
    "\n",
    "avail=$(df -h / | awk 'NR==2 {print $4}' | grep -o '[0-9.]*')\n",
    "unit=$(df -h / | awk 'NR==2 {print $4}' | grep -o '[a-zA-Z]*')\n",
    "if [[ \"$unit\" == \"M\" || \"$unit\" == \"K\" ]]; then\n",
    "    echo \"Disk space is low: $avail$unit\"\n",
    "elif [[ \"$unit\" == \"T\" ]]; then\n",
    "    echo \"Disk space is sufficient: $avail$unit\"\n",
    "elif [[ \"$unit\" == \"G\" ]]; then\n",
    "    if (( $(echo \"$avail < 10\" | bc -l) )); then\n",
    "        echo \"Disk space is low: $avail$unit\"\n",
    "    else\n",
    "        echo \"Disk space is sufficient: $avail$unit\"\n",
    "    fi\n",
    "else\n",
    "    echo \"Unknown unit: $unit\"\n",
    "fi\n"
   ]
  },
  {
   "cell_type": "markdown",
   "id": "64cc6804",
   "metadata": {},
   "source": [
    "你可以使用我们提供的python脚本来生成测试文件，运行下面的单元格。测试文件的生成可能会花费一定的时间。"
   ]
  },
  {
   "cell_type": "code",
   "execution_count": null,
   "id": "8ead0359",
   "metadata": {},
   "outputs": [],
   "source": [
    "import random\n",
    "\n",
    "MB = 1024 * 1024\n",
    "\n",
    "# A static seed for reproducibility\n",
    "random.seed(42)\n",
    "\n",
    "with open(\"test.txt\", \"wb\") as f:\n",
    "    for _ in range(2048):\n",
    "        f.write(random.randbytes(1 * MB)) # 1MB of random data"
   ]
  },
  {
   "cell_type": "markdown",
   "id": "a0017028",
   "metadata": {},
   "source": [
    "当前文件夹下面会出现一个大小为2GB的文件`test.txt`。你可以运行下面的单元格来验证。"
   ]
  },
  {
   "cell_type": "code",
   "execution_count": null,
   "id": "a4bd4bd0",
   "metadata": {},
   "outputs": [],
   "source": [
    "%%bash\n",
    "ls -lh test.txt"
   ]
  },
  {
   "cell_type": "markdown",
   "id": "55fbac6a",
   "metadata": {},
   "source": [
    "最后，我们的lab会需要使用`hyperfine`来测量程序的运行时间。我们推荐你使用`cargo`进行安装。你可以从[Rust官网](https://www.rust-lang.org/zh-CN/learn/get-started)找到安装脚本。如果你的电脑已经安装好了`cargo`，你可以运行下面的单元格来安装`hyperfine`。"
   ]
  },
  {
   "cell_type": "code",
   "execution_count": null,
   "id": "77f0165a",
   "metadata": {},
   "outputs": [],
   "source": [
    "%%bash\n",
    "cargo install hyperfine"
   ]
  },
  {
   "cell_type": "markdown",
   "id": "45cefa6f",
   "metadata": {},
   "source": [
    "有了以上的准备工作，我们终于可以开始我们的探索之旅了。"
   ]
  },
  {
   "cell_type": "markdown",
   "id": "9c1afa63",
   "metadata": {},
   "source": [
    "## 任务0: 测量cat的效率\n",
    "\n",
    "你要做的第一个任务十分简单。学习一下如何使用`hyperfine`，并且使用它来测试GNU coreutils中的cat输出我们生成的测试文件`test.txt`的时间。运行下面的单元格来运行测试。"
   ]
  },
  {
   "cell_type": "markdown",
   "id": "b1d55c88",
   "metadata": {},
   "source": [
    "# MeowLab\n",
    "\n",
    "> cat可能是你最常用的命令行工具之一，但是可能很少有人会关注cat的性能问题。\n",
    "> \n",
    "> 但实际上，cat可能比你想的更加高效。在这个lab中，我们会一起来探索cat如此高效的秘密。"
   ]
  },
  {
   "cell_type": "markdown",
   "id": "d617c61c",
   "metadata": {},
   "source": [
    "## 什么是cat\n",
    "\n",
    "对于大部分同学来说，这个问题有些太trivial了。但是以防万一，还是在这里介绍一下，cat是一个GNU coreutils中的一个程序，它的作用是连接(con**cat**enate)一系列文件，并将其输出到标准输出流(stdout)中。\n",
    "\n",
    "> 如果你愿意去找，你会发现这个lab中所有的代码都可以在GNU coreutils中找到，或者你用某个大模型，它可能也能写得不错。\n",
    "> 但是，除了写代码以外，这个lab中也会包含一些分析和讨论。因此即使你选择直接去抄GNU coreutils中的代码，也不要直接不加思考的复制粘贴。"
   ]
  },
  {
   "cell_type": "markdown",
   "id": "9265852e",
   "metadata": {},
   "source": [
    "## 环境要求\n",
    "\n",
    "* 操作系统：Linux（任何包含GNU coreutils的发行版）\n",
    "* 编译器：本lab允许使用C/C++或者Rust，选择你喜欢的任何编译器即可。\n",
    "* Python3.x：本lab一些地方需要你画图，推荐你使用matplotlib。另外，我们使用一个简单的脚本来生成测试文件。"
   ]
  },
  {
   "cell_type": "markdown",
   "id": "7abd621b",
   "metadata": {},
   "source": [
    "## 在开始之前\n",
    "\n",
    "这个项目的所有代码需要你自己动手来写，我们只提供了一个用于生成测试文件的脚本。\n",
    "\n",
    "为了展示比较明显的测试效果，我们会生成一个2GB的测试文件，请确保你的磁盘拥有足够的空间。你可以运行下面这个单元格来查看你的电脑是否有足够的空间。这里我们使用了`df`命令，这个命令的作用是查看某个文件系统所在的磁盘的使用量。"
   ]
  },
  {
   "cell_type": "code",
   "execution_count": null,
   "id": "0513f495",
   "metadata": {},
   "outputs": [
    {
     "name": "stdout",
     "output_type": "stream",
     "text": [
      "Filesystem      Size  Used Avail Use% Mounted on\n",
      "/dev/sdd        251G   27G  212G  12% /\n",
      "Disk space is sufficient: 212G\n"
     ]
    }
   ],
   "source": [
    "%%bash\n",
    "df -h /\n",
    "\n",
    "avail=$(df -h / | awk 'NR==2 {print $4}' | grep -o '[0-9.]*')\n",
    "unit=$(df -h / | awk 'NR==2 {print $4}' | grep -o '[a-zA-Z]*')\n",
    "if [[ \"$unit\" == \"M\" || \"$unit\" == \"K\" ]]; then\n",
    "    echo \"Disk space is low: $avail$unit\"\n",
    "elif [[ \"$unit\" == \"T\" ]]; then\n",
    "    echo \"Disk space is sufficient: $avail$unit\"\n",
    "elif [[ \"$unit\" == \"G\" ]]; then\n",
    "    if (( $(echo \"$avail < 10\" | bc -l) )); then\n",
    "        echo \"Disk space is low: $avail$unit\"\n",
    "    else\n",
    "        echo \"Disk space is sufficient: $avail$unit\"\n",
    "    fi\n",
    "else\n",
    "    echo \"Unknown unit: $unit\"\n",
    "fi\n"
   ]
  },
  {
   "cell_type": "markdown",
   "id": "49d12a2b",
   "metadata": {},
   "source": [
    "你可以使用我们提供的python脚本来生成测试文件，运行下面的单元格。测试文件的生成可能会花费一定的时间。"
   ]
  },
  {
   "cell_type": "code",
   "execution_count": null,
   "id": "68cd5cb5",
   "metadata": {},
   "outputs": [],
   "source": [
    "import random\n",
    "\n",
    "MB = 1024 * 1024\n",
    "\n",
    "# A static seed for reproducibility\n",
    "random.seed(42)\n",
    "\n",
    "with open(\"test.txt\", \"wb\") as f:\n",
    "    for _ in range(2048):\n",
    "        f.write(random.randbytes(1 * MB)) # 1MB of random data"
   ]
  },
  {
   "cell_type": "markdown",
   "id": "533026db",
   "metadata": {},
   "source": [
    "当前文件夹下面会出现一个大小为2GB的文件`test.txt`。你可以运行下面的单元格来验证。"
   ]
  },
  {
   "cell_type": "code",
   "execution_count": null,
   "id": "4669d42e",
   "metadata": {},
   "outputs": [
    {
     "name": "stdout",
     "output_type": "stream",
     "text": [
      "-rw-r--r-- 1 xiaoyang xiaoyang 2.0G Jun 18 22:24 test.txt\n"
     ]
    }
   ],
   "source": [
    "%%bash\n",
    "ls -lh test.txt"
   ]
  },
  {
   "cell_type": "markdown",
   "id": "aedd910a",
   "metadata": {},
   "source": [
    "最后，我们的lab会需要使用`hyperfine`来测量程序的运行时间。我们推荐你使用`cargo`进行安装。你可以从[Rust官网](https://www.rust-lang.org/zh-CN/learn/get-started)找到安装脚本。如果你的电脑已经安装好了`cargo`，你可以运行下面的单元格来安装`hyperfine`。"
   ]
  },
  {
   "cell_type": "code",
   "execution_count": null,
   "id": "3bd71513",
   "metadata": {},
   "outputs": [
    {
     "name": "stderr",
     "output_type": "stream",
     "text": [
      "\u001b[1m\u001b[32m    Updating\u001b[0m crates.io index\n",
      "\u001b[1m\u001b[32m Downloading\u001b[0m crates ...\n",
      "\u001b[1m\u001b[32m  Downloaded\u001b[0m hyperfine v1.19.0\n",
      "\u001b[1m\u001b[32m  Installing\u001b[0m hyperfine v1.19.0\n",
      "\u001b[1m\u001b[32m    Updating\u001b[0m crates.io index\n",
      "\u001b[1m\u001b[32m     Locking\u001b[0m 137 packages to latest compatible versions\n",
      "\u001b[1m\u001b[36m      Adding\u001b[0m colored v2.2.0 \u001b[1m\u001b[33m(available: v3.0.0)\u001b[0m\n",
      "\u001b[1m\u001b[36m      Adding\u001b[0m indicatif v0.17.4 \u001b[1m\u001b[33m(available: v0.17.11)\u001b[0m\n",
      "\u001b[1m\u001b[36m      Adding\u001b[0m nix v0.29.0 \u001b[1m\u001b[33m(available: v0.30.1)\u001b[0m\n",
      "\u001b[1m\u001b[36m      Adding\u001b[0m rand v0.8.5 \u001b[1m\u001b[33m(available: v0.9.1)\u001b[0m\n",
      "\u001b[1m\u001b[36m      Adding\u001b[0m windows-sys v0.59.0 \u001b[1m\u001b[33m(available: v0.60.2)\u001b[0m\n",
      "\u001b[1m\u001b[32m Downloading\u001b[0m crates ...\n",
      "\u001b[1m\u001b[32m  Downloaded\u001b[0m bytecheck_derive v0.6.12\n",
      "\u001b[1m\u001b[32m  Downloaded\u001b[0m cfg_aliases v0.2.1\n",
      "\u001b[1m\u001b[32m  Downloaded\u001b[0m is_terminal_polyfill v1.70.1\n",
      "\u001b[1m\u001b[32m  Downloaded\u001b[0m equivalent v1.0.2\n",
      "\u001b[1m\u001b[32m  Downloaded\u001b[0m ptr_meta v0.1.4\n",
      "\u001b[1m\u001b[32m  Downloaded\u001b[0m ptr_meta_derive v0.1.4\n",
      "\u001b[1m\u001b[32m  Downloaded\u001b[0m tinyvec_macros v0.1.1\n",
      "\u001b[1m\u001b[32m  Downloaded\u001b[0m wyz v0.5.1\n",
      "\u001b[1m\u001b[32m  Downloaded\u001b[0m statistical v1.0.0\n",
      "\u001b[1m\u001b[32m  Downloaded\u001b[0m uuid v1.17.0\n",
      "\u001b[1m\u001b[32m  Downloaded\u001b[0m number_prefix v0.4.0\n",
      "\u001b[1m\u001b[32m  Downloaded\u001b[0m autocfg v0.1.8\n",
      "\u001b[1m\u001b[32m  Downloaded\u001b[0m anstyle v1.0.11\n",
      "\u001b[1m\u001b[32m  Downloaded\u001b[0m zerocopy v0.8.26\n",
      "\u001b[1m\u001b[32m  Downloaded\u001b[0m cfg-if v1.0.1\n",
      "\u001b[1m\u001b[32m  Downloaded\u001b[0m bytecheck v0.6.12\n",
      "\u001b[1m\u001b[32m  Downloaded\u001b[0m clap_lex v0.7.5\n",
      "\u001b[1m\u001b[32m  Downloaded\u001b[0m colorchoice v1.0.4\n",
      "\u001b[1m\u001b[32m  Downloaded\u001b[0m autocfg v1.5.0\n",
      "\u001b[1m\u001b[32m  Downloaded\u001b[0m thiserror-impl v2.0.12\n",
      "\u001b[1m\u001b[32m  Downloaded\u001b[0m tap v1.0.1\n",
      "\u001b[1m\u001b[32m  Downloaded\u001b[0m rand_chacha v0.3.1\n",
      "\u001b[1m\u001b[32m  Downloaded\u001b[0m rand_core v0.6.4\n",
      "\u001b[1m\u001b[32m  Downloaded\u001b[0m lazy_static v1.5.0\n",
      "\u001b[1m\u001b[32m  Downloaded\u001b[0m shell-words v1.1.0\n",
      "\u001b[1m\u001b[32m  Downloaded\u001b[0m toml_datetime v0.6.11\n",
      "\u001b[1m\u001b[32m  Downloaded\u001b[0m rkyv_derive v0.7.45\n",
      "\u001b[1m\u001b[32m  Downloaded\u001b[0m errno v0.3.12\n",
      "\u001b[1m\u001b[32m  Downloaded\u001b[0m rand_xorshift v0.1.1\n",
      "\u001b[1m\u001b[32m  Downloaded\u001b[0m rand_jitter v0.1.4\n",
      "\u001b[1m\u001b[32m  Downloaded\u001b[0m num v0.2.1\n",
      "\u001b[1m\u001b[32m  Downloaded\u001b[0m strsim v0.11.1\n",
      "\u001b[1m\u001b[32m  Downloaded\u001b[0m rand_pcg v0.1.2\n",
      "\u001b[1m\u001b[32m  Downloaded\u001b[0m utf8parse v0.2.2\n",
      "\u001b[1m\u001b[32m  Downloaded\u001b[0m funty v2.0.0\n",
      "\u001b[1m\u001b[32m  Downloaded\u001b[0m proc-macro-crate v3.3.0\n",
      "\u001b[1m\u001b[32m  Downloaded\u001b[0m rand_hc v0.1.0\n",
      "\u001b[1m\u001b[32m  Downloaded\u001b[0m rand_core v0.4.2\n",
      "\u001b[1m\u001b[32m  Downloaded\u001b[0m anstyle-parse v0.2.7\n",
      "\u001b[1m\u001b[32m  Downloaded\u001b[0m ppv-lite86 v0.2.21\n",
      "\u001b[1m\u001b[32m  Downloaded\u001b[0m rend v0.4.2\n",
      "\u001b[1m\u001b[32m  Downloaded\u001b[0m rand_os v0.1.3\n",
      "\u001b[1m\u001b[32m  Downloaded\u001b[0m num-rational v0.2.4\n",
      "\u001b[1m\u001b[32m  Downloaded\u001b[0m num-iter v0.1.45\n",
      "\u001b[1m\u001b[32m  Downloaded\u001b[0m radium v0.7.0\n",
      "\u001b[1m\u001b[32m  Downloaded\u001b[0m itoa v1.0.15\n",
      "\u001b[1m\u001b[32m  Downloaded\u001b[0m rand_chacha v0.1.1\n",
      "\u001b[1m\u001b[32m  Downloaded\u001b[0m rand_isaac v0.1.1\n",
      "\u001b[1m\u001b[32m  Downloaded\u001b[0m arrayvec v0.7.6\n",
      "\u001b[1m\u001b[32m  Downloaded\u001b[0m anstream v0.6.19\n",
      "\u001b[1m\u001b[32m  Downloaded\u001b[0m terminal_size v0.4.2\n",
      "\u001b[1m\u001b[32m  Downloaded\u001b[0m ahash v0.7.8\n",
      "\u001b[1m\u001b[32m  Downloaded\u001b[0m num-integer v0.1.46\n",
      "\u001b[1m\u001b[32m  Downloaded\u001b[0m quote v1.0.40\n",
      "\u001b[1m\u001b[32m  Downloaded\u001b[0m colored v2.2.0\n",
      "\u001b[1m\u001b[32m  Downloaded\u001b[0m console v0.15.11\n",
      "\u001b[1m\u001b[32m  Downloaded\u001b[0m seahash v4.1.0\n",
      "\u001b[1m\u001b[32m  Downloaded\u001b[0m anstyle-query v1.1.3\n",
      "\u001b[1m\u001b[32m  Downloaded\u001b[0m thiserror v2.0.12\n",
      "\u001b[1m\u001b[32m  Downloaded\u001b[0m csv-core v0.1.12\n",
      "\u001b[1m\u001b[32m  Downloaded\u001b[0m rand_core v0.3.1\n",
      "\u001b[1m\u001b[32m  Downloaded\u001b[0m num-complex v0.2.4\n",
      "\u001b[1m\u001b[32m  Downloaded\u001b[0m once_cell v1.21.3\n",
      "\u001b[1m\u001b[32m  Downloaded\u001b[0m getrandom v0.2.16\n",
      "\u001b[1m\u001b[32m  Downloaded\u001b[0m simdutf8 v0.1.5\n",
      "\u001b[1m\u001b[32m  Downloaded\u001b[0m borsh-derive v1.5.7\n",
      "\u001b[1m\u001b[32m  Downloaded\u001b[0m version_check v0.9.5\n",
      "\u001b[1m\u001b[32m  Downloaded\u001b[0m clap_complete v4.5.54\n",
      "\u001b[1m\u001b[32m  Downloaded\u001b[0m anyhow v1.0.98\n",
      "\u001b[1m\u001b[32m  Downloaded\u001b[0m proc-macro2 v1.0.95\n",
      "\u001b[1m\u001b[32m  Downloaded\u001b[0m num-traits v0.2.19\n",
      "\u001b[1m\u001b[32m  Downloaded\u001b[0m unicode-ident v1.0.18\n",
      "\u001b[1m\u001b[32m  Downloaded\u001b[0m tinyvec v1.9.0\n",
      "\u001b[1m\u001b[32m  Downloaded\u001b[0m bitflags v2.9.1\n",
      "\u001b[1m\u001b[32m  Downloaded\u001b[0m clap v4.5.40\n",
      "\u001b[1m\u001b[32m  Downloaded\u001b[0m serde_derive v1.0.219\n",
      "\u001b[1m\u001b[32m  Downloaded\u001b[0m indicatif v0.17.4\n",
      "\u001b[1m\u001b[32m  Downloaded\u001b[0m ryu v1.0.20\n",
      "\u001b[1m\u001b[32m  Downloaded\u001b[0m bytes v1.10.1\n",
      "\u001b[1m\u001b[32m  Downloaded\u001b[0m borsh v1.5.7\n",
      "\u001b[1m\u001b[32m  Downloaded\u001b[0m num-bigint v0.2.6\n",
      "\u001b[1m\u001b[32m  Downloaded\u001b[0m toml_edit v0.22.27\n",
      "\u001b[1m\u001b[32m  Downloaded\u001b[0m memchr v2.7.5\n",
      "\u001b[1m\u001b[32m  Downloaded\u001b[0m rand v0.8.5\n",
      "\u001b[1m\u001b[32m  Downloaded\u001b[0m serde v1.0.219\n",
      "\u001b[1m\u001b[32m  Downloaded\u001b[0m hashbrown v0.12.3\n",
      "\u001b[1m\u001b[32m  Downloaded\u001b[0m indexmap v2.9.0\n",
      "\u001b[1m\u001b[32m  Downloaded\u001b[0m rand v0.6.5\n",
      "\u001b[1m\u001b[32m  Downloaded\u001b[0m rkyv v0.7.45\n",
      "\u001b[1m\u001b[32m  Downloaded\u001b[0m hashbrown v0.15.4\n",
      "\u001b[1m\u001b[32m  Downloaded\u001b[0m clap_builder v4.5.40\n",
      "\u001b[1m\u001b[32m  Downloaded\u001b[0m serde_json v1.0.140\n",
      "\u001b[1m\u001b[32m  Downloaded\u001b[0m rust_decimal v1.37.2\n",
      "\u001b[1m\u001b[32m  Downloaded\u001b[0m portable-atomic v1.11.1\n",
      "\u001b[1m\u001b[32m  Downloaded\u001b[0m winnow v0.7.11\n",
      "\u001b[1m\u001b[32m  Downloaded\u001b[0m bitvec v1.0.1\n",
      "\u001b[1m\u001b[32m  Downloaded\u001b[0m unicode-width v0.1.14\n",
      "\u001b[1m\u001b[32m  Downloaded\u001b[0m syn v1.0.109\n",
      "\u001b[1m\u001b[32m  Downloaded\u001b[0m syn v2.0.103\n",
      "\u001b[1m\u001b[32m  Downloaded\u001b[0m unicode-width v0.2.1\n",
      "\u001b[1m\u001b[32m  Downloaded\u001b[0m nix v0.29.0\n",
      "\u001b[1m\u001b[32m  Downloaded\u001b[0m rustix v1.0.7\n",
      "\u001b[1m\u001b[32m  Downloaded\u001b[0m libc v0.2.174\n",
      "\u001b[1m\u001b[32m  Downloaded\u001b[0m csv v1.3.1\n",
      "\u001b[1m\u001b[32m  Downloaded\u001b[0m linux-raw-sys v0.9.4\n",
      "\u001b[1m\u001b[32m   Compiling\u001b[0m autocfg v1.5.0\n",
      "\u001b[1m\u001b[32m   Compiling\u001b[0m rustix v1.0.7\n",
      "\u001b[1m\u001b[32m   Compiling\u001b[0m libc v0.2.174\n",
      "\u001b[1m\u001b[32m   Compiling\u001b[0m proc-macro2 v1.0.95\n",
      "\u001b[1m\u001b[32m   Compiling\u001b[0m unicode-ident v1.0.18\n",
      "\u001b[1m\u001b[32m   Compiling\u001b[0m rand_core v0.4.2\n",
      "\u001b[1m\u001b[32m   Compiling\u001b[0m linux-raw-sys v0.9.4\n",
      "\u001b[1m\u001b[32m   Compiling\u001b[0m bitflags v2.9.1\n",
      "\u001b[1m\u001b[32m   Compiling\u001b[0m utf8parse v0.2.2\n",
      "\u001b[1m\u001b[32m   Compiling\u001b[0m colorchoice v1.0.4\n",
      "\u001b[1m\u001b[32m   Compiling\u001b[0m is_terminal_polyfill v1.70.1\n",
      "\u001b[1m\u001b[32m   Compiling\u001b[0m anstyle-query v1.1.3\n",
      "\u001b[1m\u001b[32m   Compiling\u001b[0m anstyle v1.0.11\n",
      "\u001b[1m\u001b[32m   Compiling\u001b[0m serde v1.0.219\n",
      "\u001b[1m\u001b[32m   Compiling\u001b[0m zerocopy v0.8.26\n",
      "\u001b[1m\u001b[32m   Compiling\u001b[0m cfg-if v1.0.1\n",
      "\u001b[1m\u001b[32m   Compiling\u001b[0m strsim v0.11.1\n",
      "\u001b[1m\u001b[32m   Compiling\u001b[0m clap_lex v0.7.5\n",
      "\u001b[1m\u001b[32m   Compiling\u001b[0m anstyle-parse v0.2.7\n",
      "\u001b[1m\u001b[32m   Compiling\u001b[0m portable-atomic v1.11.1\n",
      "\u001b[1m\u001b[32m   Compiling\u001b[0m cfg_aliases v0.2.1\n",
      "\u001b[1m\u001b[32m   Compiling\u001b[0m rand_core v0.3.1\n",
      "\u001b[1m\u001b[32m   Compiling\u001b[0m memchr v2.7.5\n",
      "\u001b[1m\u001b[32m   Compiling\u001b[0m rand_xorshift v0.1.1\n",
      "\u001b[1m\u001b[32m   Compiling\u001b[0m rand_hc v0.1.0\n",
      "\u001b[1m\u001b[32m   Compiling\u001b[0m rand_isaac v0.1.1\n",
      "\u001b[1m\u001b[32m   Compiling\u001b[0m nix v0.29.0\n",
      "\u001b[1m\u001b[32m   Compiling\u001b[0m rand_jitter v0.1.4\n",
      "\u001b[1m\u001b[32m   Compiling\u001b[0m autocfg v0.1.8\n",
      "\u001b[1m\u001b[32m   Compiling\u001b[0m anstream v0.6.19\n",
      "\u001b[1m\u001b[32m   Compiling\u001b[0m thiserror v2.0.12\n",
      "\u001b[1m\u001b[32m   Compiling\u001b[0m ryu v1.0.20\n",
      "\u001b[1m\u001b[32m   Compiling\u001b[0m num-traits v0.2.19\n",
      "\u001b[1m\u001b[32m   Compiling\u001b[0m num-bigint v0.2.6\n",
      "\u001b[1m\u001b[32m   Compiling\u001b[0m rand_chacha v0.1.1\n",
      "\u001b[1m\u001b[32m   Compiling\u001b[0m num-rational v0.2.4\n",
      "\u001b[1m\u001b[32m   Compiling\u001b[0m num-complex v0.2.4\n",
      "\u001b[1m\u001b[32m   Compiling\u001b[0m rand_pcg v0.1.2\n",
      "\u001b[1m\u001b[32m   Compiling\u001b[0m rand v0.6.5\n",
      "\u001b[1m\u001b[32m   Compiling\u001b[0m itoa v1.0.15\n",
      "\u001b[1m\u001b[32m   Compiling\u001b[0m unicode-width v0.2.1\n",
      "\u001b[1m\u001b[32m   Compiling\u001b[0m once_cell v1.21.3\n",
      "\u001b[1m\u001b[32m   Compiling\u001b[0m anyhow v1.0.98\n",
      "\u001b[1m\u001b[32m   Compiling\u001b[0m serde_json v1.0.140\n",
      "\u001b[1m\u001b[32m   Compiling\u001b[0m rust_decimal v1.37.2\n",
      "\u001b[1m\u001b[32m   Compiling\u001b[0m csv-core v0.1.12\n",
      "\u001b[1m\u001b[32m   Compiling\u001b[0m arrayvec v0.7.6\n",
      "\u001b[1m\u001b[32m   Compiling\u001b[0m lazy_static v1.5.0\n",
      "\u001b[1m\u001b[32m   Compiling\u001b[0m unicode-width v0.1.14\n",
      "\u001b[1m\u001b[32m   Compiling\u001b[0m number_prefix v0.4.0\n",
      "\u001b[1m\u001b[32m   Compiling\u001b[0m colored v2.2.0\n",
      "\u001b[1m\u001b[32m   Compiling\u001b[0m shell-words v1.1.0\n",
      "\u001b[1m\u001b[32m   Compiling\u001b[0m quote v1.0.40\n",
      "\u001b[1m\u001b[32m   Compiling\u001b[0m syn v2.0.103\n",
      "\u001b[1m\u001b[32m   Compiling\u001b[0m terminal_size v0.4.2\n",
      "\u001b[1m\u001b[32m   Compiling\u001b[0m clap_builder v4.5.40\n",
      "\u001b[1m\u001b[32m   Compiling\u001b[0m num-integer v0.1.46\n",
      "\u001b[1m\u001b[32m   Compiling\u001b[0m num-iter v0.1.45\n",
      "\u001b[1m\u001b[32m   Compiling\u001b[0m getrandom v0.2.16\n",
      "\u001b[1m\u001b[32m   Compiling\u001b[0m rand_os v0.1.3\n",
      "\u001b[1m\u001b[32m   Compiling\u001b[0m console v0.15.11\n",
      "\u001b[1m\u001b[32m   Compiling\u001b[0m rand_core v0.6.4\n",
      "\u001b[1m\u001b[32m   Compiling\u001b[0m ppv-lite86 v0.2.21\n",
      "\u001b[1m\u001b[32m   Compiling\u001b[0m indicatif v0.17.4\n",
      "\u001b[1m\u001b[32m   Compiling\u001b[0m rand_chacha v0.3.1\n",
      "\u001b[1m\u001b[32m   Compiling\u001b[0m num v0.2.1\n",
      "\u001b[1m\u001b[32m   Compiling\u001b[0m rand v0.8.5\n",
      "\u001b[1m\u001b[32m   Compiling\u001b[0m statistical v1.0.0\n",
      "\u001b[1m\u001b[32m   Compiling\u001b[0m clap v4.5.40\n",
      "\u001b[1m\u001b[32m   Compiling\u001b[0m clap_complete v4.5.54\n",
      "\u001b[1m\u001b[32m   Compiling\u001b[0m hyperfine v1.19.0\n",
      "\u001b[1m\u001b[32m   Compiling\u001b[0m serde_derive v1.0.219\n",
      "\u001b[1m\u001b[32m   Compiling\u001b[0m thiserror-impl v2.0.12\n",
      "\u001b[1m\u001b[32m   Compiling\u001b[0m csv v1.3.1\n",
      "\u001b[1m\u001b[32m    Finished\u001b[0m `release` profile [optimized] target(s) in 53.32s\n",
      "\u001b[1m\u001b[32m  Installing\u001b[0m /home/xiaoyang/.cargo/bin/hyperfine\n",
      "\u001b[1m\u001b[32m   Installed\u001b[0m package `hyperfine v1.19.0` (executable `hyperfine`)\n"
     ]
    }
   ],
   "source": [
    "%%bash\n",
    "cargo install hyperfine"
   ]
  },
  {
   "cell_type": "markdown",
   "id": "a93f3dd7",
   "metadata": {},
   "source": [
    "有了以上的准备工作，我们终于可以开始我们的探索之旅了。"
   ]
  },
  {
   "cell_type": "markdown",
   "id": "6123098b",
   "metadata": {},
   "source": [
    "## 任务0: 测量cat的效率\n",
    "\n",
    "你要做的第一个任务十分简单。学习一下如何使用`hyperfine`，并且使用它来测试GNU coreutils中的cat输出我们生成的测试文件`test.txt`的时间。运行下面的单元格来运行测试。"
   ]
  },
  {
   "cell_type": "code",
   "execution_count": null,
   "id": "fcf27595",
   "metadata": {},
   "outputs": [
    {
     "name": "stdout",
     "output_type": "stream",
     "text": [
      "Benchmark 1: cat test.txt\n",
      "  Time (mean ± σ):     272.7 ms ±  36.3 ms    [User: 3.5 ms, System: 269.1 ms]\n",
      "  Range (min … max):   238.9 ms … 332.0 ms    10 runs\n",
      " \n"
     ]
    }
   ],
   "source": [
    "%%bash\n",
    "hyperfine --warmup 3 'cat test.txt'"
   ]
  },
  {
   "cell_type": "markdown",
   "id": "0855da6a",
   "metadata": {},
   "source": [
    "## 任务1: 写一个最朴素的cat\n",
    "\n",
    "我们现在使用`hyperfine`测量了GNU coreutils中的`cat`的运行效率，但是对于这个运行时间，我们可能并没有什么概念。现在我们将会写一个最朴素的`cat`程序来作为baseline。这个程序需要满足一下要求：\n",
    "1. 把你的源代码命名为`mycat1.c`或者`mycat1.rs`，并且可执行的二进制文件命名为`mycat1`。\n",
    "2. 你的程序接受且只接受一个命令行参数，这个参数是你要读取的文件。\n",
    "3. 你的程序直接使用`read`和`write`系统调用，每次读取并输出一个字符，不使用任何缓冲区。\n",
    "4. 使用`hpyerfine`测量`mycat1`和`cat`运行时间（`mycat1`的运行时间可能会非常长）\n",
    "5. 虽然这是一个很简单的程序，但是请仍然保持系统编程的规范。请在你的代码中进行进行所有必要的错误处理。\n",
    "\n",
    "这个任务不需要在文档中包含任何内容。"
   ]
  },
  {
   "cell_type": "code",
   "execution_count": null,
   "id": "89968176",
   "metadata": {},
   "outputs": [
    {
     "name": "stdout",
     "output_type": "stream",
     "text": [
      "Benchmark 1: ./target/mycat1 test.txt\n",
      "  Time (abs ≡):        1319.407 s               [User: 297.408 s, System: 1021.974 s]\n",
      " \n"
     ]
    }
   ],
   "source": [
    "%%bash\n",
    "hyperfine --warmup 3 --runs 1 './target/mycat1 test.txt'"
   ]
  },
  {
   "cell_type": "markdown",
   "id": "fadc9d62",
   "metadata": {},
   "source": [
    "## 任务2: 带有缓冲区的cat\n",
    "\n",
    "如果你正确完成了上面的任务，你会发现，`mycat1`的性能和系统中的`cat`的性能相差甚远。但是经过了ics课程的学习，你肯定已经想到了至少一个解决方案——使用缓冲区。缓冲区可以有效减少反复进行系统调用的性能消耗。但是，我们要面临的第二个问题是：缓冲区的大小应该如何设置呢？我们接下来将一步一步地探索这个问题。\n",
    "\n",
    "我们之前肯定也已经讲过不少涉及IO缓冲区的程序了，它们的缓冲区大小都被设置为多少呢？我相信1024, 4096, 8192一定是比较常见的几个数字。经过ics的学习，我相信你们肯定能说出原因了。那么，这个任务，我们将根据这个原理优化我们的`mycat1`。你至少需要完成下面要求：\n",
    "1. 复制你上一个任务的源代码在上面做修改，并把源代码命名为`mycat2.c`/`mycat2.rs`，可执行二进制文件命名为`mycat2`。\n",
    "2. 写一个`io_blocksize`函数用于确定你的缓冲区的大小，在这个任务中，你可以将缓冲区设置成你当前系统中一个内存页的大小。（注意：你不能假设所有系统中内存页的大小都是4K，请你使用一个系统调用或者标准库中的函数来获取内存页的大小，而不要使用一个固定值。不过允许你使用一个固定值，如果获取内存页发生错误，但是这不应该是一个常见的情况）。\n",
    "3. 使用标准库提供的函数动态分配用于缓冲区的内存。\n",
    "4. 使用`hpyerfine`测量`mycat2`的运行时间\n",
    "5. 请保持系统编程的基本规范。\n",
    "\n",
    "这个任务不需要在文档中包含任何内容。"
   ]
  },
  {
   "cell_type": "code",
   "execution_count": null,
   "id": "9b5b567b",
   "metadata": {},
   "outputs": [
    {
     "name": "stdout",
     "output_type": "stream",
     "text": [
      "Benchmark 1: ./target/mycat2 test.txt\n",
      "  Time (mean ± σ):     853.7 ms ±  48.8 ms    [User: 117.0 ms, System: 736.6 ms]\n",
      "  Range (min … max):   788.6 ms … 952.7 ms    10 runs\n",
      " \n"
     ]
    }
   ],
   "source": [
    "%%bash\n",
    "hyperfine --warmup 3 './target/mycat2 test.txt'"
   ]
  },
  {
   "cell_type": "markdown",
   "id": "7ed5a3ab",
   "metadata": {},
   "source": [
    "## 任务3: 缓冲区对齐的cat\n",
    "\n",
    "如果你正确完成了上面这个任务，你会发现，添加了缓冲区的`mycat2`性能提升十分显著。但是我们还可以进一步优化。实际上只是添加了缓冲区并且设置缓冲区的大小为内存页的整数倍并不是没有什么太多的意义，这样的设置只是为了这个一个任务做铺垫的。在这个任务中，我们将尝试将我们的缓冲区对齐到系统的内存页。至于为什么要这么做，请大家在自己的文档中分析一下。你至少需要完成以下要求：\n",
    "1. 复制你上一个任务的源代码在上面做修改，并把源代码命名为`mycat3.c`/`mycat3.rs`，可执行二进制文件命名为`mycat3`。\n",
    "2. 写两个函数`char* align_alloc(size_t size)`和`void align_free(void* ptr)`，它们的作用分别是分配一段内存，长度不小于`size`并且返回一个对齐到内存页起始的指针`ptr`，以及给出一个先前从`align_alloc`返回的指针并释放之前分配的内存。\n",
    "3. 利用这两个函数修改你的代码，缓冲区的大小仍然设置成一个内存页的大小。\n",
    "4. 使用`hpyerfine`测量`mycat3`的运行时间\n",
    "5. 请保持系统编程的基本规范。\n",
    "\n",
    "这个任务，你需要在文档中回答以下问题：\n",
    "1. 为什么将缓冲区对齐到系统的内存可能提高性能？你的实验结果支持这个猜想吗？为什么？\n",
    "2. 为什么我们直接使用`malloc`函数分配的内存不能对齐到内存页，即使我们分配的内存大小已经是内存页大小的整数倍了。\n",
    "3. 你是怎么在不知道原始的malloc返回的指针的情况下正确释放内存的？"
   ]
  },
  {
   "cell_type": "code",
   "execution_count": null,
   "id": "37e42735",
   "metadata": {},
   "outputs": [
    {
     "name": "stdout",
     "output_type": "stream",
     "text": [
      "Benchmark 1: ./target/mycat3 test.txt\n",
      "  Time (mean ± σ):     764.6 ms ±  41.7 ms    [User: 112.7 ms, System: 652.2 ms]\n",
      "  Range (min … max):   720.4 ms … 851.1 ms    10 runs\n",
      " \n"
     ]
    }
   ],
   "source": [
    "%%bash\n",
    "hyperfine --warmup 3 './target/mycat3 test.txt'"
   ]
  },
  {
   "cell_type": "markdown",
   "id": "04acca2f",
   "metadata": {},
   "source": [
    "### 任务3理论分析\n",
    "\n",
    "#### 1. \n",
    "\n",
    "从结果来看，mycat3 (764.6ms) 比 mycat2 (853.7ms) 快了大概10%，虽然不是特别多但是也算明显了。\n",
    "\n",
    "原理不复杂：\n",
    "- **TLB**：如果我们的内存正好对齐到页边界，TLB就不用那么费劲地查找了\n",
    "- **缓存更友好**：CPU缓存是按行存储的，页对齐的话就不会出现那种\"跨行\"的问题，访问效率会高一些\n",
    "- **系统优化**：操作系统对页对齐的内存会有一些特殊的优化，具体怎么优化我也不是特别清楚，但是确实有用\n",
    "\n",
    "#### 2. \n",
    "\n",
    "查资料：\n",
    "- **malloc只管基本对齐**：malloc保证返回的指针能放下int、double这些基本类型就行了，一般是8字节或16字节对齐，不管页对齐\n",
    "- **堆的位置不固定**：程序的堆不一定从页边界开始的，所以即使你分配4KB，也可能从一个奇怪的地址开始\n",
    "- **连续分配的问题**：malloc两次，第二次拿到的指针肯定紧跟着第一次的，不能保证都页对齐\n",
    "\n",
    "#### 3. \n",
    "\n",
    "解决方案是：用`posix_memalign()`，直接分配页对齐的内存：\n",
    "\n",
    "```c\n",
    "char* align_alloc(size_t size) {\n",
    "    size_t page_size = io_blocksize();\n",
    "    void* raw_ptr = NULL;\n",
    "    \n",
    "    // posix_memalign直接搞定页对齐\n",
    "    if (posix_memalign(&raw_ptr, page_size, size + sizeof(void*)) != 0) {\n",
    "        return NULL;\n",
    "    }\n",
    "    \n",
    "    // 在前面存一下原始指针，免得忘了\n",
    "    void** base_ptr = (void**)raw_ptr;\n",
    "    *base_ptr = raw_ptr;\n",
    "    \n",
    "    // 返回偏移后的指针给用户\n",
    "    return (char*)raw_ptr + sizeof(void*);\n",
    "}\n",
    "\n",
    "void align_free(void* ptr) {\n",
    "    // 往前退sizeof(void*)就能找到原始指针了\n",
    "    void** base_ptr = (void**)((char*)ptr - sizeof(void*));\n",
    "    free(*base_ptr);\n",
    "}\n",
    "```\n",
    "\n",
    "就是在分配的内存前面偷偷藏了原始指针的地址，释放的时候再找出来。虽然浪费了一点点内存但是问题不大。\n"
   ]
  },
  {
   "cell_type": "markdown",
   "id": "39508061",
   "metadata": {},
   "source": [
    "## 任务4: 设置缓冲区大小为文件系统块大小的整数倍的cat\n",
    "\n",
    "由于`cat`是涉及文件操作的，所以我们自然不能离开磁盘操作。我们在课内已经学到过，磁盘操作的基本单位是块。并且因为我们操作磁盘是经过了操作系统的一层抽象的，操作系统的文件系统也定义了一个操作文件的基本单位块，这个块的大小和磁盘的块的大小相关，但不总是相同。因此我们操作文件的时候实际接触到的块大小是文件系统的块大小。如果我们每次读取和写入文件的时候都按照文件系统的块大小来进行，也能提升性能。在这个任务中，你至少需要完成以下要求：\n",
    "1. 复制你上一个任务的源代码在上面做修改，并把源代码命名为`mycat4.c`/`mycat4.rs`，可执行二进制文件命名为`mycat4`。\n",
    "2. 修改你的函数`io_blocksize`，让你的缓冲区大小既考虑到内存页大小也考虑到文件系统的块大小。\n",
    "3. 使用`hyperfine`测量`mycat4`的运行时间。\n",
    "4. 保持系统编程的基本规范。\n",
    "\n",
    "> 在完成这项任务的时候你需要注意以下几点：\n",
    "> 1. 文件系统中的每个文件，块大小不总是相同的。\n",
    "> 2. 有的文件系统可能会给出虚假的块大小，这种虚假的文件块大小可能根本不是2的整数次幂。\n",
    "\n",
    "这个任务，你需要在文档中回答以下问题：\n",
    "1. 为什么在设置缓冲区大小的时候需要考虑到文件系统块的大小的问题？\n",
    "2. 对于上面提到的两个注意事项你是怎么解决的？"
   ]
  },
  {
   "cell_type": "markdown",
   "id": "ef6d8bd6",
   "metadata": {},
   "source": [
    "### 任务4理论分析\n",
    "\n",
    "#### 1. \n",
    "\n",
    "文件系统不是按字节来操作的，它有自己的基本单位叫做\"块\"。比如你就算只想读1个字节，文件系统也得把整个块都读出来。\n",
    "\n",
    "所以如果我们的缓冲区大小正好是文件系统块大小的整数倍，那就不会出现那种\"读了一半块\"的情况，效率自然就高了。\n",
    "\n",
    "从结果来看，mycat4 (740.4ms) 比 mycat3 (764.6ms) 确实快了一点点，虽然提升不大但也算有用。\n",
    "\n",
    "几个原理：\n",
    "- **减少系统调用**：缓冲区大一点，调用read/write的次数就少\n",
    "- **对齐优化**：跟文件系统块对齐的话，系统处理起来更轻松\n",
    "- **缓存友好**：文件系统的缓存也是按块来的，对齐访问能更好地利用缓存\n",
    "\n",
    "#### 2. \n",
    "\n",
    "两个坑：\n",
    "\n",
    "**坑1：不同文件的块大小可能不同**\n",
    "\n",
    "我一开始直接假设所有文件的块大小都一样，结果测试的时候发现有些文件的性能很奇怪。\n",
    "\n",
    "后来用`fstat()`来动态获取每个文件的块大小：\n",
    "```c\n",
    "size_t io_blocksize(int fd) {\n",
    "    long page_size = sysconf(_SC_PAGESIZE);\n",
    "    \n",
    "    struct stat file_stat;\n",
    "    if (fstat(fd, &file_stat) == -1) {\n",
    "        perror(\"警告: 无法获取文件状态\");\n",
    "        return page_size;  // 出错就用页大小\n",
    "    }\n",
    "    \n",
    "    size_t fs_block_size = file_stat.st_blksize;\n",
    "    // ... \n",
    "}\n",
    "```\n",
    "\n",
    "**坑2：有些文件系统给出虚假的块大小**\n",
    "\n",
    "有些文件系统会返回一些奇怪的数字，比如不是2的幂次方。我用了个简单的检查：\n",
    "```c\n",
    "if (fs_block_size == 0 || (fs_block_size & (fs_block_size - 1)) != 0) {\n",
    "    fprintf(stderr, \"警告: 块大小有问题(%zu), 还是用页大小吧\\n\", fs_block_size);\n",
    "    return page_size;\n",
    "}\n",
    "```\n",
    "\n",
    "这个位运算的技巧还挺有用的，`(n & (n-1)) == 0` 能检查n是不是2的幂次方。\n",
    "\n",
    "**最后计算缓冲区大小：**\n",
    "```c\n",
    "// 算内存页大小和文件系统块大小的最小公倍数\n",
    "size_t lcm_size = page_size;\n",
    "while (lcm_size % fs_block_size != 0) {\n",
    "    lcm_size += page_size;\n",
    "}\n",
    "return lcm_size;\n",
    "```\n",
    "\n",
    "这样就能保证缓冲区既页对齐又块对齐，一举两得。虽然可能会比较大，但是效果还是有的。\n"
   ]
  },
  {
   "cell_type": "code",
   "execution_count": null,
   "id": "533390e9",
   "metadata": {},
   "outputs": [
    {
     "name": "stdout",
     "output_type": "stream",
     "text": [
      "Benchmark 1: ./target/mycat4 test.txt\n",
      "  Time (mean ± σ):     740.4 ms ±  22.2 ms    [User: 117.4 ms, System: 622.3 ms]\n",
      "  Range (min … max):   705.3 ms … 776.9 ms    10 runs\n",
      " \n"
     ]
    }
   ],
   "source": [
    "%%bash\n",
    "hyperfine --warmup 3 './target/mycat4 test.txt'"
   ]
  },
  {
   "cell_type": "markdown",
   "id": "53a6fe2f",
   "metadata": {},
   "source": [
    "## 任务5: 考虑系统调用开销情况下的cat\n",
    "\n",
    "如果你正确完成了上面的任务，那么现在你的`cat`已经可以综合考虑内存页大小，内存页对齐和文件系统块大小的因素来设置缓冲区大小了。但是我们会发现，我们自己的`cat`性能仍然不如我们系统中的`cat`。并且如果你尝试过再进一步增大缓冲区的大小，你的`cat`性能还能更高。这是因为我们目前设置的缓冲区大小还不足以掩盖系统调用带来的开销。那么，我们的缓冲区究竟应该设置到什么大小才够呢？其实这个问题，我们仅仅使用理论分析是无法给出答案的，因为答案受到机器的硬件条件，操作系统的涉及等多重不确定因素的影响。但是，我们可以使用实验来解答这个问题。最后，我们还需要做出假设，不考虑上一个任务的注意事项1，也就是我们假设我们文件系统的大部分文件的块大小都一致（你可以使用我们的测试文件的块大小）。因此，设我们在之前的任务中设置的缓冲区大小是buf_size，我们需要通过实验找到一个倍数A，满足以下条件：\n",
    "1. 当缓冲区大小小于A * buf_size的时候，文件的读写速度显著减小\n",
    "2. 当缓冲区大小大于A * buf_size的时候，文件的读写速度并不显著提升\n",
    "最终，我们就可以直接设置我们的`cat`中的缓冲区大小设置成buf_size的固定倍率。在这个任务中，你只少需要完成以下要求：\n",
    "1. 编写一个实验脚本，尽量排除其他因素的影响，测量只在系统调用开销的影响下，你的系统最合适的缓冲区大小。并且给出这个大小下你的系统的读写速率。\n",
    "2. 复制你上一个任务的源代码在上面做修改，并把源代码命名为`mycat5.c`/`mycat5.rs`，可执行二进制文件命名为`mycat5`。\n",
    "3. 利用上面的实验结果，修改你的函数`io_blocksize`。\n",
    "4. 使用`hyperfine`测量`mycat5`的运行时间。\n",
    "5. 保持系统编程的基本规范。\n",
    "\n",
    "> 提示：\n",
    "> 1. `dd`命令可以用于复制一个文件(也就是读取并写入)，你可以使用命令行参数设置它的缓冲区大小，并且程序终止的时候可以报告平均文件读写速度。\n",
    "> 2. Linux系统中存在`/dev`文件系统，这个目录下有很多特殊文件，其中有一些对你来说可能有用。`/dev/null`，你向这个文件写入的内容并不真正写入磁盘，并且不会对你的系统造成任何影响。`/dev/zero`，如果你尝试读取这个文件你会得到源源不断的`\\0x0`，这个文件也并不真正的从磁盘中读取。\n",
    "\n",
    "这个任务，你需要在文档中包括以下内容：\n",
    "1. 解释一下你的实验脚本是怎么设计的。你应该尝试了多种倍率，请将它们的读写速率画成图表包含在文档中。"
   ]
  },
  {
   "cell_type": "code",
   "execution_count": null,
   "id": "d49c4044",
   "metadata": {},
   "outputs": [
    {
     "name": "stdout",
     "output_type": "stream",
     "text": [
      "测试缓冲区大小: 4096 字节\n",
      "  测试 1: 12600.00 MB/s\n",
      "  测试 2: 16600.00 MB/s\n",
      "  测试 3: 17300.00 MB/s\n",
      "平均速率: 15500.00 MB/s\n",
      "\n",
      "测试缓冲区大小: 8192 字节\n",
      "  测试 1: 30700.00 MB/s\n",
      "  测试 2: 29300.00 MB/s\n",
      "  测试 3: 22100.00 MB/s\n",
      "平均速率: 27366.66 MB/s\n",
      "\n",
      "测试缓冲区大小: 16384 字节\n",
      "  测试 1: 43600.00 MB/s\n",
      "  测试 2: 43100.00 MB/s\n",
      "  测试 3: 34900.00 MB/s\n",
      "平均速率: 40533.33 MB/s\n",
      "\n",
      "测试缓冲区大小: 32768 字节\n",
      "  测试 1: 33900.00 MB/s\n",
      "  测试 2: 52900.00 MB/s\n",
      "  测试 3: 67800.00 MB/s\n",
      "平均速率: 51533.33 MB/s\n",
      "\n",
      "测试缓冲区大小: 65536 字节\n",
      "  测试 1: 51600.00 MB/s\n",
      "  测试 2: 42700.00 MB/s\n",
      "  测试 3: 55900.00 MB/s\n",
      "平均速率: 50066.66 MB/s\n",
      "\n",
      "测试缓冲区大小: 131072 字节\n",
      "  测试 1: 42000.00 MB/s\n",
      "  测试 2: 43700.00 MB/s\n",
      "  测试 3: 48100.00 MB/s\n",
      "平均速率: 44600.00 MB/s\n",
      "\n",
      "测试缓冲区大小: 262144 字节\n",
      "  测试 1: 62800.00 MB/s\n",
      "  测试 2: 60500.00 MB/s\n",
      "  测试 3: 60300.00 MB/s\n",
      "平均速率: 61200.00 MB/s\n",
      "\n",
      "测试缓冲区大小: 524288 字节\n",
      "  测试 1: 61300.00 MB/s\n",
      "  测试 2: 59300.00 MB/s\n",
      "  测试 3: 57900.00 MB/s\n",
      "平均速率: 59500.00 MB/s\n",
      "\n",
      "测试缓冲区大小: 1048576 字节\n",
      "  测试 1: 58700.00 MB/s\n",
      "  测试 2: 53500.00 MB/s\n",
      "  测试 3: 47700.00 MB/s\n",
      "平均速率: 53300.00 MB/s\n",
      "\n",
      "测试缓冲区大小: 2097152 字节\n",
      "  测试 1: 33900.00 MB/s\n",
      "  测试 2: 36000.00 MB/s\n",
      "  测试 3: 37600.00 MB/s\n",
      "平均速率: 35833.33 MB/s\n",
      "\n",
      "测试缓冲区大小: 4194304 字节\n",
      "  测试 1: 30300.00 MB/s\n",
      "  测试 2: 36700.00 MB/s\n",
      "  测试 3: 36100.00 MB/s\n",
      "平均速率: 34366.66 MB/s\n",
      "\n",
      "测试完成! 结果保存在 bs_results.csv\n"
     ]
    }
   ],
   "source": [
    "%%bash\n",
    "\n",
    "# 实验参数设置\n",
    "TEST_SIZE=\"1G\"          # 测试数据总量\n",
    "BASE_SIZE=4096          # 基本块大小（内存页大小）\n",
    "MULTIPLIERS=(1 2 4 8 16 32 64 128 256 512 1024)  # 测试的倍数\n",
    "OUTPUT_FILE=\"bs_results.csv\"  # 结果输出文件\n",
    "\n",
    "# 创建结果文件头\n",
    "echo \"Buffer Size (bytes),Transfer Rate (MB/s)\" > \"$OUTPUT_FILE\"\n",
    "\n",
    "# 测试函数\n",
    "run_test() {\n",
    "    local bs=\"$1\"\n",
    "    local size_unit=\"${TEST_SIZE: -1}\"  # 获取单位 (G/M/K)\n",
    "    local size_value=\"${TEST_SIZE%?}\"   # 获取数值部分\n",
    "    \n",
    "    # 计算count值\n",
    "    local count\n",
    "    if [ \"$size_unit\" = \"G\" ]; then\n",
    "        count=$((size_value * 1024 * 1024 * 1024 / bs))\n",
    "    elif [ \"$size_unit\" = \"M\" ]; then\n",
    "        count=$((size_value * 1024 * 1024 / bs))\n",
    "    else\n",
    "        count=$((size_value * 1024 / bs))\n",
    "    fi\n",
    "    \n",
    "    # 确保至少有一次传输\n",
    "    if [ \"$count\" -lt 1 ]; then\n",
    "        count=1\n",
    "    fi\n",
    "    \n",
    "    # 运行dd命令并提取速率\n",
    "    local result\n",
    "    result=$(dd if=/dev/zero of=/dev/null bs=\"$bs\" count=\"$count\" 2>&1)\n",
    "    local rate\n",
    "    rate=$(echo \"$result\" | grep -oE '[0-9.]+ [A-Z]?B/s' | head -n1)\n",
    "    \n",
    "    # 转换为MB/s\n",
    "    if [[ \"$rate\" == *\"GB/s\"* ]]; then\n",
    "        local value\n",
    "        value=$(echo \"$rate\" | awk '{print $1}')\n",
    "        echo \"$value * 1000\" | bc -l | awk '{printf \"%.2f\", $1}'\n",
    "    elif [[ \"$rate\" == *\"MB/s\"* ]]; then\n",
    "        echo \"$rate\" | awk '{print $1}'\n",
    "    elif [[ \"$rate\" == *\"KB/s\"* ]]; then\n",
    "        local value\n",
    "        value=$(echo \"$rate\" | awk '{print $1}')\n",
    "        echo \"scale=2; $value / 1000\" | bc -l | awk '{printf \"%.2f\", $1}'\n",
    "    else\n",
    "        echo \"0\"\n",
    "    fi\n",
    "}\n",
    "\n",
    "# 运行所有测试\n",
    "for mult in \"${MULTIPLIERS[@]}\"; do\n",
    "    bs=$((BASE_SIZE * mult))\n",
    "    echo \"测试缓冲区大小: $bs 字节\"\n",
    "    \n",
    "    # 运行3次取平均值\n",
    "    total=0\n",
    "    runs=0\n",
    "    for i in {1..3}; do\n",
    "        rate=$(run_test \"$bs\")\n",
    "        if [ -n \"$rate\" ] && [ \"$rate\" != \"0\" ]; then\n",
    "            total=$(echo \"$total + $rate\" | bc -l)\n",
    "            runs=$((runs + 1))\n",
    "            echo \"  测试 $i: $rate MB/s\"\n",
    "        fi\n",
    "    done\n",
    "    \n",
    "    if [ \"$runs\" -gt 0 ]; then\n",
    "        avg_rate=$(echo \"scale=2; $total / $runs\" | bc -l)\n",
    "        echo \"$bs,$avg_rate\" >> \"$OUTPUT_FILE\"\n",
    "        echo \"平均速率: $avg_rate MB/s\"\n",
    "    else\n",
    "        echo \"$bs,0\" >> \"$OUTPUT_FILE\"\n",
    "        echo \"无法获取有效速率\"\n",
    "    fi\n",
    "    \n",
    "    echo\n",
    "done\n",
    "\n",
    "echo \"测试完成! 结果保存在 $OUTPUT_FILE\""
   ]
  },
  {
   "cell_type": "markdown",
   "id": "aba3a908",
   "metadata": {},
   "source": [
    "### 任务5理论分析\n",
    "\n",
    "#### 实验设计想法\n",
    "\n",
    "这个任务需要找到最优的缓冲区大小，我就想能不能写个脚本来自动测试不同的大小，看看哪个最快。\n",
    "\n",
    "**dd命令有几个好处：**\n",
    "- 能精确控制缓冲区大小（bs参数）\n",
    "- 会自动报告传输速率，省得我自己算\n",
    "- 用`/dev/zero`到`/dev/null`可以排除磁盘读写的干扰\n",
    "\n",
    "**测试参数：**\n",
    "- 基础大小用4KB（页大小）\n",
    "- 测试倍数：1, 2, 4, 8, 16, 32, 64, 128, 256, 512, 1024\n",
    "- 每个测试跑3次求平均，免得数据不准\n",
    "- 测试1GB数据\n",
    "\n",
    "#### 实验结果分析\n",
    "\n",
    "看数据\n",
    "\n",
    "| 缓冲区大小 | 传输速率 | 我的观察 |\n",
    "|------------|----------|----------|\n",
    "| 4KB | 15,500 MB/s | 增 |\n",
    "| 8KB | 27,367 MB/s | 增 |\n",
    "| 16KB | 40,533 MB/s | 增 |\n",
    "| 32KB | 51,533 MB/s | 增 |\n",
    "| 64KB | 50,067 MB/s | 降 |\n",
    "| 128KB | 44,600 MB/s | 降 |\n",
    "| 256KB | **61,200 MB/s** | 增 |\n",
    "| 512KB | 59,500 MB/s | 降低 |\n",
    "| 1MB | 53,300 MB/s | 降|\n",
    "\n",
    "**几个发现：**\n",
    "1. **256KB是峰值**：61,200 MB/s，比4KB快了差不多4倍\n",
    "2. **32KB也不错**：虽然没到峰值，但是已经有51,533 MB/s了，是峰值的84%\n",
    "3. **太大也不行**：超过256KB就开始下降了，可能是缓存污染啥的\n",
    "\n",
    "**最后的选择：32倍**\n",
    "\n",
    "虽然256KB是峰值，但我最终选择了32KB（32倍）。为什么呢？\n",
    "- 性能够用了，51,533 MB/s已经很不错\n",
    "- 资源消耗少，256KB有点大\n",
    "- 更稳定，峰值点在不同系统上可能不太一样\n",
    "\n",
    "所以在mycat5里用了`#define OPTIMAL_MULTIPLIER 32`，事实证明这个选择还挺对的。\n"
   ]
  },
  {
   "cell_type": "code",
   "execution_count": null,
   "id": "dbdb47d0",
   "metadata": {},
   "outputs": [
    {
     "name": "stdout",
     "output_type": "stream",
     "text": [
      "Benchmark 1: ./target/mycat5 test.txt\n",
      "  Time (mean ± σ):     193.4 ms ±   8.3 ms    [User: 3.5 ms, System: 189.9 ms]\n",
      "  Range (min … max):   185.9 ms … 211.6 ms    15 runs\n",
      " \n"
     ]
    }
   ],
   "source": [
    "%%bash\n",
    "hyperfine --warmup 3 './target/mycat5 test.txt'"
   ]
  },
  {
   "cell_type": "markdown",
   "id": "5e118e36",
   "metadata": {},
   "source": [
    "## 任务6: 使用了系统调用`fdadvice`的cat\n",
    "\n",
    "虽然几乎我们的这个lab都在讨论设置缓冲区大小的问题，但是实际上我们的系统中的`cat`还在其他很多方面做了不少优化。这些优化在多数时候和缓冲区相比都不起决定性作用，但是我们也可以从中学习到不少有趣的技巧。这里我们就只尝试其中一个，使用系统调用`fadvise`。这个系统调用可以提示文件系统我们将会以什么样的模式来读写文件，这样操作系统可以设置合适的readahead窗口为文件的读写做准备。在这个任务中，你需要完成以下要求：\n",
    "1. 复制你上一个任务的源代码在上面做修改，并把源代码命名为`mycat6.c`/`mycat6.rs`，可执行二进制文件命名为`mycat6`。\n",
    "2. 在你的代码中使用`fadvise`进行优化。\n",
    "3. 使用`hyperfine`测量`mycat6`的运行时间。\n",
    "4. 保持系统编程的基本规范。\n",
    "\n",
    "这个任务，你需要在文档中回答以下问题：\n",
    "1. 你是如何设置`fadvise`的参数的？\n",
    "2. 对于顺序读写的情况，文件系统可以如何调整readahead？对于随机读写的情况呢？"
   ]
  },
  {
   "cell_type": "markdown",
   "id": "a09735e0",
   "metadata": {},
   "source": [
    "### 答：\n",
    "\n",
    "#### 1. fadvise参数设置\n",
    "\n",
    "我在代码里用了三个fadvise相关的调用：\n",
    "```c\n",
    "// 文件打开后马上设置\n",
    "#ifdef POSIX_FADV_SEQUENTIAL\n",
    "if (posix_fadvise(fd, 0, 0, POSIX_FADV_SEQUENTIAL) != 0) {\n",
    "    perror(\"fadvise 警告\");\n",
    "}\n",
    "#endif\n",
    "\n",
    "// 对缓冲区也设置一下\n",
    "#ifdef MADV_SEQUENTIAL  \n",
    "if (posix_madvise(buffer, buffer_size, MADV_SEQUENTIAL) != 0) {\n",
    "    perror(\"madvise 警告\");\n",
    "}\n",
    "#endif\n",
    "\n",
    "// 程序结束前清理\n",
    "#ifdef POSIX_FADV_DONTNEED\n",
    "if (posix_fadvise(fd, 0, 0, POSIX_FADV_DONTNEED) != 0) {\n",
    "    perror(\"fadvise(结束)警告\");\n",
    "}\n",
    "#endif\n",
    "```\n",
    "\n",
    "想法很简单：\n",
    "- `POSIX_FADV_SEQUENTIAL`: 告诉系统这个文件会被顺序读，应该多预读一些\n",
    "- `MADV_SEQUENTIAL`: 告诉系统缓冲区也是顺序访问的\n",
    "- `POSIX_FADV_DONTNEED`: 读完就告诉系统可以把缓存释放了\n",
    "\n",
    "#### 2. Readahead机制\n",
    "\n",
    "**顺序读写的时候：**\n",
    "- 内核发现你在顺序读，就会主动预读后面的数据\n",
    "- 预读窗口会越来越大，有时候能读很多\n",
    "- 这样理论上能减少等待时间\n",
    "\n",
    "**随机读写的时候：**\n",
    "- 预读就没啥用了，甚至会浪费资源\n",
    "- 系统会用小一点的预读窗口，或者直接关掉\n",
    "- 这时候主要靠缓存的LRU策略\n",
    "\n",
    "#### 3. 为什么mycat6反而变慢了？\n",
    "\n",
    "1.845s vs 193.4ms，居然慢了10倍：\n",
    "\n",
    "**1. 过度优化了：**\n",
    "- 我的缓冲区已经131KB (32*4KB)了，已经够大了\n",
    "- 再加上`POSIX_FADV_SEQUENTIAL`的预读，可能读了太多无用的数据\n",
    "- 2GB的文件 + 激进预读 = 内存不够用，开始swap了\n",
    "\n",
    "**2. 双重缓存问题：**\n",
    "mycat5已经找到了最优的缓冲区大小，现在fadvise又搞了一套预读，两个缓存可能冲突了。\n",
    "\n",
    "**3. 用了太多hint：**\n",
    "我一次性用了三个hint：\n",
    "- `posix_fadvise(SEQUENTIAL)`\n",
    "- `posix_madvise(MADV_SEQUENTIAL)`  \n",
    "- `posix_fadvise(DONTNEED)`\n",
    "\n",
    "可能系统处理这些hint的开销比收益还大。\n",
    "\n",
    "**4. WSL环境问题：**\n",
    "我用的是WSL，可能对这些高级的I/O hint支持不太好，或者实现有bug。\n",
    "\n",
    "\n",
    "**总结：over-optimization**\n",
    "mycat5已经很好了，6画蛇添足\n",
    "less is more\n"
   ]
  },
  {
   "cell_type": "code",
   "execution_count": null,
   "id": "a404158f",
   "metadata": {},
   "outputs": [
    {
     "name": "stdout",
     "output_type": "stream",
     "text": [
      "Benchmark 1: ./target/mycat6 test.txt\n",
      "  Time (mean ± σ):      1.845 s ±  0.093 s    [User: 0.005 s, System: 0.841 s]\n",
      "  Range (min … max):    1.663 s …  1.933 s    10 runs\n",
      " \n"
     ]
    }
   ],
   "source": [
    "%%bash\n",
    "hyperfine --warmup 3 './target/mycat6 test.txt'"
   ]
  },
  {
   "cell_type": "code",
   "execution_count": null,
   "id": "e7ef188c",
   "metadata": {},
   "outputs": [
    {
     "name": "stdout",
     "output_type": "stream",
     "text": [
      "ERROR! Session/line number was not unique in database. History logging moved to new session 4\n",
      "Benchmark 1: ./target/mycat2 test.txt\n",
      "  Time (mean ± σ):      3.942 s ±  0.166 s    [User: 0.060 s, System: 0.679 s]\n",
      "  Range (min … max):    3.649 s …  4.274 s    10 runs\n",
      " \n",
      "Benchmark 1: ./target/mycat3 test.txt\n",
      "  Time (mean ± σ):      3.911 s ±  0.214 s    [User: 0.065 s, System: 0.675 s]\n",
      "  Range (min … max):    3.607 s …  4.224 s    10 runs\n",
      " \n",
      "Benchmark 1: ./target/mycat4 test.txt\n",
      "  Time (mean ± σ):      1.052 s ±  1.378 s    [User: 0.054 s, System: 0.480 s]\n",
      "  Range (min … max):    0.358 s …  3.980 s    10 runs\n",
      " \n"
     ]
    },
    {
     "name": "stderr",
     "output_type": "stream",
     "text": [
      " \n",
      "  Warning: The first benchmarking run for this command was significantly slower than the rest (3.980 s). This could be caused by (filesystem) caches that were not filled until after the first run. You are already using the '--warmup' option which helps to fill these caches before the actual benchmark. You can either try to increase the warmup count further or re-run this benchmark on a quiet system in case it was a random outlier. Alternatively, consider using the '--prepare' option to clear the caches before each timing run.\n"
     ]
    },
    {
     "name": "stdout",
     "output_type": "stream",
     "text": [
      "Benchmark 1: ./target/mycat5 test.txt\n",
      "  Time (mean ± σ):     231.6 ms ±  17.3 ms    [User: 2.8 ms, System: 229.0 ms]\n",
      "  Range (min … max):   210.4 ms … 260.7 ms    14 runs\n",
      " \n",
      "Benchmark 1: ./target/mycat6 test.txt\n",
      "  Time (mean ± σ):      2.228 s ±  0.263 s    [User: 0.009 s, System: 1.110 s]\n",
      "  Range (min … max):    1.828 s …  2.705 s    10 runs\n",
      " \n"
     ]
    }
   ],
   "source": [
    "%%bash\n",
    "hyperfine --warmup 3 './target/mycat2 test.txt'\n",
    "hyperfine --warmup 3 './target/mycat3 test.txt'\n",
    "hyperfine --warmup 3 './target/mycat4 test.txt'\n",
    "hyperfine --warmup 3 './target/mycat5 test.txt'\n",
    "hyperfine --warmup 3 './target/mycat6 test.txt'"
   ]
  },
  {
   "cell_type": "markdown",
   "id": "2c26a838",
   "metadata": {},
   "source": [
    "## 任务7: 总结\n",
    "\n",
    "经过了上面的所有任务，我们已经成功探索我们系统中最常用的工具`cat`所使用的各种优化。我相信你对涉及系统IO的编程也有了更深刻的理解。现在请你整理汇总上面每个任务你所写的`mycatx`以及系统的`cat`的测量数据，使用一个柱状图来展示。并且请你分析一下你得到的结果：它们符合你的预期吗？为什么？这个结果给你带来了什么启示？\n",
    "\n",
    "这个任务，你需要在文档中包含以下内容：\n",
    "1. 你的全部实验结果的柱状图。\n",
    "2. 你对上述实验结果的分析。"
   ]
  },
  {
   "cell_type": "code",
   "execution_count": null,
   "id": "9c3aac9d",
   "metadata": {},
   "outputs": [
    {
     "name": "stdout",
     "output_type": "stream",
     "text": [
      "Collecting pandas\n",
      "  Downloading pandas-2.3.0-cp312-cp312-manylinux_2_17_x86_64.manylinux2014_x86_64.whl.metadata (91 kB)\n",
      "Collecting matplotlib\n",
      "  Downloading matplotlib-3.10.3-cp312-cp312-manylinux_2_17_x86_64.manylinux2014_x86_64.whl.metadata (11 kB)\n",
      "Collecting numpy\n",
      "  Downloading numpy-2.3.0-cp312-cp312-manylinux_2_28_x86_64.whl.metadata (62 kB)\n",
      "Requirement already satisfied: python-dateutil>=2.8.2 in /home/xiaoyang/anaconda3/envs/meowlab/lib/python3.12/site-packages (from pandas) (2.9.0.post0)\n",
      "Collecting pytz>=2020.1 (from pandas)\n",
      "  Downloading pytz-2025.2-py2.py3-none-any.whl.metadata (22 kB)\n",
      "Collecting tzdata>=2022.7 (from pandas)\n",
      "  Downloading tzdata-2025.2-py2.py3-none-any.whl.metadata (1.4 kB)\n",
      "Collecting contourpy>=1.0.1 (from matplotlib)\n",
      "  Downloading contourpy-1.3.2-cp312-cp312-manylinux_2_17_x86_64.manylinux2014_x86_64.whl.metadata (5.5 kB)\n",
      "Collecting cycler>=0.10 (from matplotlib)\n",
      "  Downloading cycler-0.12.1-py3-none-any.whl.metadata (3.8 kB)\n",
      "Collecting fonttools>=4.22.0 (from matplotlib)\n",
      "  Downloading fonttools-4.58.4-cp312-cp312-manylinux1_x86_64.manylinux2014_x86_64.manylinux_2_17_x86_64.manylinux_2_5_x86_64.whl.metadata (106 kB)\n",
      "Collecting kiwisolver>=1.3.1 (from matplotlib)\n",
      "  Downloading kiwisolver-1.4.8-cp312-cp312-manylinux_2_17_x86_64.manylinux2014_x86_64.whl.metadata (6.2 kB)\n",
      "Requirement already satisfied: packaging>=20.0 in /home/xiaoyang/anaconda3/envs/meowlab/lib/python3.12/site-packages (from matplotlib) (24.2)\n",
      "Collecting pillow>=8 (from matplotlib)\n",
      "  Downloading pillow-11.2.1-cp312-cp312-manylinux_2_28_x86_64.whl.metadata (8.9 kB)\n",
      "Collecting pyparsing>=2.3.1 (from matplotlib)\n",
      "  Downloading pyparsing-3.2.3-py3-none-any.whl.metadata (5.0 kB)\n",
      "Requirement already satisfied: six>=1.5 in /home/xiaoyang/anaconda3/envs/meowlab/lib/python3.12/site-packages (from python-dateutil>=2.8.2->pandas) (1.17.0)\n",
      "Downloading pandas-2.3.0-cp312-cp312-manylinux_2_17_x86_64.manylinux2014_x86_64.whl (12.0 MB)\n",
      "\u001b[2K   \u001b[90m━━━━━━━━━━━━━━━━━━━━━━━━━━━━━━━━━━━━━━━━\u001b[0m \u001b[32m12.0/12.0 MB\u001b[0m \u001b[31m3.4 MB/s\u001b[0m eta \u001b[36m0:00:00\u001b[0m00:01\u001b[0m00:01\u001b[0m\n",
      "\u001b[?25hDownloading matplotlib-3.10.3-cp312-cp312-manylinux_2_17_x86_64.manylinux2014_x86_64.whl (8.6 MB)\n",
      "\u001b[2K   \u001b[90m━━━━━━━━━━━━━━━━━━━━━━━━━━━━━━━━━━━━━━━━\u001b[0m \u001b[32m8.6/8.6 MB\u001b[0m \u001b[31m5.2 MB/s\u001b[0m eta \u001b[36m0:00:00\u001b[0ma \u001b[36m0:00:01\u001b[0mm\n",
      "\u001b[?25hDownloading numpy-2.3.0-cp312-cp312-manylinux_2_28_x86_64.whl (16.6 MB)\n",
      "\u001b[2K   \u001b[90m━━━━━━━━━━━━━━━━━━━━━━━━━━━━━━━━━━━━━━━━\u001b[0m \u001b[32m16.6/16.6 MB\u001b[0m \u001b[31m3.5 MB/s\u001b[0m eta \u001b[36m0:00:00\u001b[0m00:01\u001b[0m00:01\u001b[0m\n",
      "\u001b[?25hDownloading contourpy-1.3.2-cp312-cp312-manylinux_2_17_x86_64.manylinux2014_x86_64.whl (323 kB)\n",
      "Downloading cycler-0.12.1-py3-none-any.whl (8.3 kB)\n",
      "Downloading fonttools-4.58.4-cp312-cp312-manylinux1_x86_64.manylinux2014_x86_64.manylinux_2_17_x86_64.manylinux_2_5_x86_64.whl (4.9 MB)\n",
      "\u001b[2K   \u001b[90m━━━━━━━━━━━━━━━━━━━━━━━━━━━━━━━━━━━━━━━━\u001b[0m \u001b[32m4.9/4.9 MB\u001b[0m \u001b[31m3.8 MB/s\u001b[0m eta \u001b[36m0:00:00\u001b[0ma \u001b[36m0:00:01\u001b[0m\n",
      "\u001b[?25hDownloading kiwisolver-1.4.8-cp312-cp312-manylinux_2_17_x86_64.manylinux2014_x86_64.whl (1.5 MB)\n",
      "\u001b[2K   \u001b[90m━━━━━━━━━━━━━━━━━━━━━━━━━━━━━━━━━━━━━━━━\u001b[0m \u001b[32m1.5/1.5 MB\u001b[0m \u001b[31m3.3 MB/s\u001b[0m eta \u001b[36m0:00:00\u001b[0ma \u001b[36m0:00:01\u001b[0m\n",
      "\u001b[?25hDownloading pillow-11.2.1-cp312-cp312-manylinux_2_28_x86_64.whl (4.6 MB)\n",
      "\u001b[2K   \u001b[90m━━━━━━━━━━━━━━━━━━━━━━━━━━━━━━━━━━━━━━━━\u001b[0m \u001b[32m4.6/4.6 MB\u001b[0m \u001b[31m2.9 MB/s\u001b[0m eta \u001b[36m0:00:00\u001b[0ma \u001b[36m0:00:01\u001b[0m\n",
      "\u001b[?25hDownloading pyparsing-3.2.3-py3-none-any.whl (111 kB)\n",
      "Downloading pytz-2025.2-py2.py3-none-any.whl (509 kB)\n",
      "Downloading tzdata-2025.2-py2.py3-none-any.whl (347 kB)\n",
      "Installing collected packages: pytz, tzdata, pyparsing, pillow, numpy, kiwisolver, fonttools, cycler, pandas, contourpy, matplotlib\n",
      "\u001b[2K   \u001b[90m━━━━━━━━━━━━━━━━━━━━━━━━━━━━━━━━━━━━━━━━\u001b[0m \u001b[32m11/11\u001b[0m [matplotlib]1\u001b[0m [matplotlib]\n",
      "\u001b[1A\u001b[2KSuccessfully installed contourpy-1.3.2 cycler-0.12.1 fonttools-4.58.4 kiwisolver-1.4.8 matplotlib-3.10.3 numpy-2.3.0 pandas-2.3.0 pillow-11.2.1 pyparsing-3.2.3 pytz-2025.2 tzdata-2025.2\n"
     ]
    }
   ],
   "source": [
    "!pip install pandas matplotlib numpy\n"
   ]
  },
  {
   "cell_type": "code",
   "execution_count": null,
   "id": "cafff245",
   "metadata": {},
   "outputs": [
    {
     "name": "stdout",
     "output_type": "stream",
     "text": [
      "性能对比图已保存为 'performance_comparison.png'\n"
     ]
    },
    {
     "data": {
      "image/png": "[encoded data removed]",
      "text/plain": [
       "<Figure size 1400x800 with 1 Axes>"
      ]
     },
     "metadata": {},
     "output_type": "display_data"
    }
   ],
   "source": [
    "# 这里填入你用于画图的python代码\n",
    "\n",
    "import pandas as pd\n",
    "import matplotlib.pyplot as plt\n",
    "import numpy as np\n",
    "\n",
    "# 设置中文字体（适用于WSL/Ubuntu环境）\n",
    "plt.rcParams[\"font.family\"] = [\"WenQuanYi Micro Hei\"]\n",
    "plt.rcParams[\"axes.unicode_minus\"] = False  # 正确显示负号\n",
    "\n",
    "# 测试数据整理\n",
    "data = {\n",
    "    '程序版本': ['cat', 'mycat1', 'mycat2', 'mycat3', 'mycat4', 'mycat5', 'mycat6'],\n",
    "    '执行时间(ms)': [272.7, 1319407, 3942, 3911, 1052, 231.6, 2228],\n",
    "    '用户时间(ms)': [3.5, 297408, 60, 65, 54, 2.8, 9],\n",
    "    '系统时间(ms)': [269.1, 1021974, 679, 675, 480, 229.0, 1110]\n",
    "}\n",
    "\n",
    "# 创建DataFrame\n",
    "df = pd.DataFrame(data)\n",
    "\n",
    "# 转换mycat1的时间单位以便可视化（从秒转换为毫秒）\n",
    "df.loc[df['程序版本'] == 'mycat1', '执行时间(ms)'] = df.loc[df['程序版本'] == 'mycat1', '执行时间(ms)'] / 1000\n",
    "\n",
    "# 创建图形\n",
    "plt.figure(figsize=(14, 8))\n",
    "index = np.arange(len(df['程序版本']))\n",
    "bar_width = 0.35\n",
    "opacity = 0.8\n",
    "\n",
    "# 绘制执行时间柱状图\n",
    "plt.bar(index, df['执行时间(ms)'], bar_width,\n",
    "        alpha=opacity,\n",
    "        color='skyblue',\n",
    "        label='执行时间(ms)')\n",
    "\n",
    "# 为mycat1添加特殊标记（因其时间过长）\n",
    "mycat1_idx = df[df['程序版本'] == 'mycat1'].index[0]\n",
    "plt.text(mycat1_idx, df['执行时间(ms)'][mycat1_idx] * 1.05, \n",
    "         f\"{df['执行时间(ms)'][mycat1_idx]:.1f} s\", \n",
    "         ha='center', fontsize=12, color='red')\n",
    "\n",
    "# 设置图形属性\n",
    "plt.xlabel('程序版本', fontsize=14)\n",
    "plt.ylabel('执行时间(毫秒)', fontsize=14)\n",
    "plt.title('不同版本程序的性能对比', fontsize=16)\n",
    "plt.xticks(index, df['程序版本'], rotation=45, fontsize=12)\n",
    "plt.yscale('log')  # 使用对数刻度以便显示差异极大的数据\n",
    "plt.grid(True, linestyle='--', alpha=0.7)\n",
    "plt.legend()\n",
    "\n",
    "# 添加数据标签\n",
    "for i, v in enumerate(df['执行时间(ms)']):\n",
    "    if i != mycat1_idx:  # 跳过mycat1的标签（已特殊处理）\n",
    "        plt.text(i, v * 1.05, f\"{v:.1f}\", ha='center', fontsize=10)\n",
    "\n",
    "# 优化布局\n",
    "plt.tight_layout()\n",
    "\n",
    "# 保存图片\n",
    "plt.savefig('performance_comparison.png', dpi=300)\n",
    "print(\"性能对比图已保存为 'performance_comparison.png'\")\n",
    "\n",
    "# 显示图形（如果需要）\n",
    "# plt.show()\n",
    "\n",
    "\n"
   ]
  },
  {
   "cell_type": "markdown",
   "id": "2e08c0d3",
   "metadata": {},
   "source": [
    "### 任务7 - 实验结果分析与总结\n",
    "\n",
    "最终数据\n",
    "\n",
    "| 程序版本 | 执行时间 | 相对于cat | 用了什么技术 |\n",
    "|----------|----------|-----------|-------------|\n",
    "| cat (系统) | 272.7ms | 1.00x | 系统原版 |\n",
    "| mycat1 | 1319.4s | 4838x | 没优化，纯暴力 |\n",
    "| mycat2 | 853.7ms | 3.13x | 加了缓冲区 |\n",
    "| mycat3 | 764.6ms | 2.80x | + 内存页对齐 |\n",
    "| mycat4 | 740.4ms | 2.71x | + 文件系统块对齐 |\n",
    "| mycat5 | **193.4ms** | **0.71x** | + 最优缓冲区大小 |\n",
    "| mycat6 | 1845ms | 6.77x | + fadvise (翻车了) |\n",
    "\n",
    "#### 看结果有什么发现\n",
    "\n",
    "**符合预期的：**\n",
    "- mycat1真的超级慢，1319秒，差不多22分钟才读完2GB文件\n",
    "- 每次优化都有效果，从mycat2到mycat5一路下降，说明优化路线是对的\n",
    "- mycat5居然比系统cat还快，193.4ms vs 272.7ms，快了30%\n",
    "\n",
    "**意外的发现：**\n",
    "- **mycat5竟然比cat还快**！刚开始我还以为测错了，反复跑了好几次确认是真的。可能是因为我们的程序比较简单，只干cat这一件事，而系统的cat要考虑各种复杂情况\n",
    "- **mycat6直接翻车**不再赘述\n",
    "\n",
    "**数据分析：**\n",
    "- 从mycat1到mycat2，提升了1546倍！缓冲区好\n",
    "- mycat3比mycat2快11.6%，内存对齐有用\n",
    "- mycat4比mycat3快3.2%，文件系统对齐效果不大但也有\n",
    "- mycat5比mycat4快283%，最优缓冲区大小是最大的亮点\n",
    "\n"
   ]
  }
 ],
 "metadata": {
  "kernelspec": {
   "display_name": "base",
   "language": "python",
   "name": "python3"
  },
  "language_info": {
   "codemirror_mode": {
    "name": "ipython",
    "version": 3
   },
   "file_extension": ".py",
   "mimetype": "text/x-python",
   "name": "python",
   "nbconvert_exporter": "python",
   "pygments_lexer": "ipython3",
   "version": "3.12.7"
  }
 },
 "nbformat": 4,
 "nbformat_minor": 5
}
